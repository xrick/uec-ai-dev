{
 "cells": [
  {
   "cell_type": "code",
   "execution_count": 1,
   "id": "a7ca02ba-06fd-4040-aa97-b07801f351ef",
   "metadata": {},
   "outputs": [],
   "source": [
    "import sys;\n",
    "import os;\n",
    "import glob;\n",
    "import math;\n",
    "import numpy as np;\n",
    "import random;\n",
    "import time;\n",
    "import torch\n",
    "import torch.optim as optim;\n",
    "import torch.nn as nn;"
   ]
  },
  {
   "cell_type": "code",
   "execution_count": 2,
   "id": "8b33bed5-f4d0-4757-bf8f-66328cc0e6bf",
   "metadata": {},
   "outputs": [],
   "source": [
    "sys.path.append(\"../../../src/\")"
   ]
  },
  {
   "cell_type": "code",
   "execution_count": 3,
   "id": "9c2dae81-8cea-4134-8fe9-c4aeb8d65f80",
   "metadata": {},
   "outputs": [],
   "source": [
    "import common.utils as U;\n",
    "import common.opts as opt;\n",
    "import th.resources.models as models;\n",
    "import th.resources.calculator as calc;\n",
    "# import th.resources.train_generator as train_generator;\n",
    "# import th.resources.pruning_tools.weight_pruning as weight_pruner;"
   ]
  },
  {
   "cell_type": "code",
   "execution_count": 4,
   "id": "92b03abb-4cf4-45ec-872a-f63f59262fc0",
   "metadata": {},
   "outputs": [],
   "source": [
    "import argparse\n",
    "import common.tlopts as tlopts\n",
    "import th.resources.calculator as calc;\n",
    "from datetime import datetime;\n",
    "import pathlib"
   ]
  },
  {
   "cell_type": "code",
   "execution_count": 5,
   "id": "5a89ddad-6fae-4bfd-81ac-5a11e4f94ee3",
   "metadata": {},
   "outputs": [],
   "source": [
    "logObj = None;\n",
    "def ChkAndCreateSingleDir(dir_path):\n",
    "    if not pathlib.Path(dir_path).is_dir():\n",
    "        os.mkdir(dir_path);\n",
    "        print(f\"'{dir_path}' folder is created.\");\n",
    "        \n",
    "def genDataTimeStr():\n",
    "    return datetime.today().strftime('%Y-%m-%d %H:%M:%S').replace('-',\"\").replace(' ',\"\").replace(':',\"\");\n",
    "\n",
    "def getDateStr():\n",
    "    return datetime.today().strftime('%Y-%m-%d %H').replace('-',\"\").replace(' ',\"\")#.replace(':',\"\");"
   ]
  },
  {
   "cell_type": "code",
   "execution_count": null,
   "id": "45ba0b1a-7dac-4282-b61a-3891bd4b0f74",
   "metadata": {},
   "outputs": [],
   "source": []
  }
 ],
 "metadata": {
  "kernelspec": {
   "display_name": "Python 3 (ipykernel)",
   "language": "python",
   "name": "python3"
  },
  "language_info": {
   "codemirror_mode": {
    "name": "ipython",
    "version": 3
   },
   "file_extension": ".py",
   "mimetype": "text/x-python",
   "name": "python",
   "nbconvert_exporter": "python",
   "pygments_lexer": "ipython3",
   "version": "3.10.12"
  }
 },
 "nbformat": 4,
 "nbformat_minor": 5
}
