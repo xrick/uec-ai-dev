{
 "cells": [
  {
   "cell_type": "code",
   "execution_count": 1,
   "id": "fbf89604-f3d8-4eb9-a9cd-97a513ea7743",
   "metadata": {},
   "outputs": [],
   "source": [
    "import os\n",
    "import sys"
   ]
  },
  {
   "cell_type": "code",
   "execution_count": null,
   "id": "60f7bdd6-93c4-4e30-bc91-70a2774b9395",
   "metadata": {},
   "outputs": [],
   "source": []
  },
  {
   "cell_type": "code",
   "execution_count": 2,
   "id": "e83bb4a9-c6e3-4baf-9246-0f99115eaa51",
   "metadata": {},
   "outputs": [],
   "source": [
    "tflite_model = \"./quanted_keras_models/retrain_pruned_model_from_keras_20240130173729.tflite\"\n",
    "target_c_file =\"../th/Model_C_Files/uec_alarm_model_from_keras.c\""
   ]
  },
  {
   "cell_type": "code",
   "execution_count": 3,
   "id": "ae042522-693f-4091-bc97-c8f4aa7723eb",
   "metadata": {},
   "outputs": [],
   "source": [
    "!xxd -i {tflite_model} > {target_c_file}"
   ]
  },
  {
   "cell_type": "code",
   "execution_count": 4,
   "id": "e6526e54-d290-49b1-95f6-d814f582dc57",
   "metadata": {},
   "outputs": [],
   "source": [
    "REPLACE_TEXT = \"uec_alarm_model\";#MODEL_TFLITE.replace('/', '_').replace('.', '_')\n",
    "!sed -i 's/'{REPLACE_TEXT}'/g_model/g' {target_c_file}"
   ]
  },
  {
   "cell_type": "code",
   "execution_count": null,
   "id": "fc65d14b-7f45-4f92-a789-75067a6396c9",
   "metadata": {},
   "outputs": [],
   "source": []
  }
 ],
 "metadata": {
  "kernelspec": {
   "display_name": "Python 3 (ipykernel)",
   "language": "python",
   "name": "python3"
  },
  "language_info": {
   "codemirror_mode": {
    "name": "ipython",
    "version": 3
   },
   "file_extension": ".py",
   "mimetype": "text/x-python",
   "name": "python",
   "nbconvert_exporter": "python",
   "pygments_lexer": "ipython3",
   "version": "3.10.13"
  }
 },
 "nbformat": 4,
 "nbformat_minor": 5
}
