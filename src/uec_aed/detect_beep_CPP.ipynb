{
 "cells": [
  {
   "cell_type": "code",
   "execution_count": 1,
   "id": "10cc0023-963d-4418-acf6-c133f1a38436",
   "metadata": {},
   "outputs": [],
   "source": [
    "#include <stdio.h>\n",
    "#include <stdlib.h>\n",
    "#include <math.h>\n",
    "#include <complex.h>\n",
    "// #include \"wav_io.h\"\n",
    "#include \"./dataset/raw/wanted_beep_files/beep_clear_clip_01_22K.h\""
   ]
  },
  {
   "cell_type": "code",
   "execution_count": 2,
   "id": "af020208-4326-47b4-a16a-d72934c15946",
   "metadata": {},
   "outputs": [],
   "source": [
    "#ifndef _RFFT_H \n",
    "#define _RFFT_H\n",
    "#define M_PI        3.14159265358979323846\n",
    "#define M_SQRT2     1.41421356237309504880\n",
    "#endif //end of _RFFT_H"
   ]
  },
  {
   "cell_type": "code",
   "execution_count": 3,
   "id": "f8374a8c-d26a-4709-bbd4-06b3c5222c27",
   "metadata": {},
   "outputs": [],
   "source": [
    "void rfft(float *x, int n, int m);\n",
    "double parabolic(double* corr, int index);\n",
    "int find_first_positive(double* d, int length);\n",
    "int argmax(double* arr, int length);\n",
    "void correlate(double* signal, int length, double* corr);\n",
    "double mean(double* signal, int length);\n",
    "double freq_from_autocorr(double* signal, int length, double fs);\n",
    "void find(int* condition, int size, int** res, int* res_size);\n",
    "void detectAudio(double* signal, int sig_len, int sr, double wanted_freq, double magthreshold, double freqthreshold, double (*freq_func)(double*, int));"
   ]
  },
  {
   "cell_type": "markdown",
   "id": "b89388f8-2a16-4168-84c8-9de6e8b30686",
   "metadata": {},
   "source": [
    "### utility functions"
   ]
  },
  {
   "cell_type": "code",
   "execution_count": 12,
   "id": "1051dac4-80ac-4682-b384-1470e1bb7b58",
   "metadata": {},
   "outputs": [],
   "source": [
    "double mean(double* signal, int length) \n",
    "{\n",
    "    double sum = 0.0;\n",
    "    for (int i = 0; i < length; i++) \n",
    "    {\n",
    "        sum += signal[i];\n",
    "    }\n",
    "    return sum / length;\n",
    "}"
   ]
  },
  {
   "cell_type": "code",
   "execution_count": 13,
   "id": "b514b4ca-14e4-481b-9ae9-071908b8f9c8",
   "metadata": {},
   "outputs": [],
   "source": [
    "void correlate(double* signal, int length, double* corr) {\n",
    "    for (int lag = 0; lag < length; lag++) {\n",
    "        corr[lag] = 0.0;\n",
    "        for (int i = 0; i < length - lag; i++) {\n",
    "            corr[lag] += signal[i] * signal[i + lag];\n",
    "        }\n",
    "    }\n",
    "}"
   ]
  },
  {
   "cell_type": "code",
   "execution_count": 14,
   "id": "34001338-eafd-426a-89cf-b86059a61495",
   "metadata": {},
   "outputs": [],
   "source": [
    "int find_first_positive(double* d, int length) \n",
    "{\n",
    "    for (int i = 0; i < length; i++) \n",
    "    {\n",
    "        if (d[i] > 0) \n",
    "        {\n",
    "            return i;\n",
    "        }\n",
    "    }\n",
    "    return -1; // Not found\n",
    "};"
   ]
  },
  {
   "cell_type": "code",
   "execution_count": 15,
   "id": "89f46114-bc6b-43ff-988a-be343efe328e",
   "metadata": {},
   "outputs": [],
   "source": [
    "int argmax(double* arr, int length)\n",
    "{\n",
    "    int max_index = 0;\n",
    "    for (int i = 1; i < length; i++) \n",
    "    {\n",
    "        if (arr[i] > arr[max_index]) \n",
    "        {\n",
    "            max_index = i;\n",
    "        }\n",
    "    }\n",
    "    return max_index;\n",
    "};"
   ]
  },
  {
   "cell_type": "code",
   "execution_count": 16,
   "id": "8141d50f-0e2a-404c-9374-09a1bbab61f0",
   "metadata": {},
   "outputs": [],
   "source": [
    "double parabolic(double* corr, int index) \n",
    "{\n",
    "    double a = corr[index - 1];\n",
    "    double b = corr[index];\n",
    "    double c = corr[index + 1];\n",
    "    return index + (b - a) / (2 * (b - 2 * a + c));\n",
    "};"
   ]
  },
  {
   "cell_type": "code",
   "execution_count": 17,
   "id": "6a293370-16fa-487d-a3fd-7f9fe203fe21",
   "metadata": {},
   "outputs": [],
   "source": [
    "void find(int* condition, int size, int** res, int* res_size) {\n",
    "    *res_size = 0;\n",
    "    *res = (int*)malloc(size * sizeof(int));\n",
    "    \n",
    "    for (int i = 0; i < size; i++) {\n",
    "        if (condition[i]) {\n",
    "            (*res)[(*res_size)++] = i;\n",
    "        }\n",
    "    }\n",
    "    *res = (int*)realloc(*res, (*res_size) * sizeof(int));\n",
    "}"
   ]
  },
  {
   "cell_type": "code",
   "execution_count": null,
   "id": "5f5b8ec4-959c-40d5-bb19-c8cc7b8446c9",
   "metadata": {},
   "outputs": [],
   "source": []
  },
  {
   "cell_type": "markdown",
   "id": "b933d7b0-f543-45ae-85bb-bd0f54b3f031",
   "metadata": {},
   "source": [
    "### fft and rfft implementation"
   ]
  },
  {
   "cell_type": "code",
   "execution_count": 8,
   "id": "e6f5d41f-1423-4cf9-8972-b46ede9bc562",
   "metadata": {},
   "outputs": [],
   "source": [
    "void rfft(float *x, int n, int m)\n",
    "{\n",
    "  int j, i, k, is, id;\n",
    "  int i0, i1, i2, i3, i4, i5, i6, i7, i8;\n",
    "  int n2, n4, n8;\n",
    "  float xt, a0, e, a, a3;\n",
    "  float t1, t2, t3, t4, t5, t6;\n",
    "  float cc1, ss1, cc3, ss3;\n",
    "  float *r0;\n",
    "\n",
    "  /* Digit reverse counter */\n",
    "\n",
    "  j = 0;\n",
    "  r0 = x;\n",
    "\n",
    "  for (i = 0; i < n - 1; i++) {\n",
    "\n",
    "    if (i < j) {\n",
    "      xt = x[j];\n",
    "      x[j] = *r0;\n",
    "      *r0 = xt;\n",
    "    }\n",
    "    r0++;\n",
    "\n",
    "    k = n >> 1;\n",
    "\n",
    "    while (k <= j) {\n",
    "      j = j - k;\n",
    "      k >>= 1;\n",
    "    }\n",
    "    j += k;\n",
    "  }\n",
    "\n",
    "  /* Length two butterflies */\n",
    "  is = 0;\n",
    "  id = 4;\n",
    "\n",
    "  while (is < n - 1) {\n",
    "\n",
    "    for (i0 = is; i0 < n; i0 += id) {\n",
    "      i1 = i0 + 1;\n",
    "      a0 = x[i0];\n",
    "      x[i0] += x[i1];\n",
    "      x[i1] = a0 - x[i1];\n",
    "    }\n",
    "\n",
    "    is = (id << 1) - 2;\n",
    "    id <<= 2;\n",
    "  }\n",
    "\n",
    "  /* L shaped butterflies */\n",
    "  n2 = 2;\n",
    "  for (k = 1; k < m; k++) {\n",
    "    n2 <<= 1;\n",
    "    n4 = n2 >> 2;\n",
    "    n8 = n2 >> 3;\n",
    "    e = (M_PI * 2) / n2;\n",
    "    is = 0;\n",
    "    id = n2 << 1;\n",
    "    while (is < n) {\n",
    "      for (i = is; i <= n - 1; i += id) {\n",
    "\ti1 = i;\n",
    "\ti2 = i1 + n4;\n",
    "\ti3 = i2 + n4;\n",
    "\ti4 = i3 + n4;\n",
    "\tt1 = x[i4] + x[i3];\n",
    "\tx[i4] -= x[i3];\n",
    "\tx[i3] = x[i1] - t1;\n",
    "\tx[i1] += t1;\n",
    "\n",
    "\tif (n4 != 1) {\n",
    "\t  i1 += n8;\n",
    "\t  i2 += n8;\n",
    "\t  i3 += n8;\n",
    "\t  i4 += n8;\n",
    "\t  t1 = (x[i3] + x[i4]) / M_SQRT2;\n",
    "\t  t2 = (x[i3] - x[i4]) / M_SQRT2;\n",
    "\t  x[i4] = x[i2] - t1;\n",
    "\t  x[i3] = -x[i2] - t1;\n",
    "\t  x[i2] = x[i1] - t2;\n",
    "\t  x[i1] = x[i1] + t2;\n",
    "\t}\n",
    "      }\n",
    "      is = (id << 1) - n2;\n",
    "      id <<= 2;\n",
    "    }\n",
    "\n",
    "    for (j = 1; j < n8; j++) {\n",
    "      a = j * e;\n",
    "      a3 = 3 * a;\n",
    "      cc1 = cos(a);\n",
    "      ss1 = sin(a);\n",
    "      cc3 = cos(a3);\n",
    "      ss3 = sin(a3);\n",
    "\n",
    "      is = 0;\n",
    "      id = n2 << 1;\n",
    "\n",
    "      while (is < n) {\n",
    "\tfor (i = is; i <= n - 1; i += id) {\n",
    "\t  i1 = i + j;\n",
    "\t  i2 = i1 + n4;\n",
    "\t  i3 = i2 + n4;\n",
    "\t  i4 = i3 + n4;\n",
    "\t  i5 = i + n4 - j;\n",
    "\t  i6 = i5 + n4;\n",
    "\t  i7 = i6 + n4;\n",
    "\t  i8 = i7 + n4;\n",
    "\t  t1 = x[i3] * cc1 + x[i7] * ss1;\n",
    "\t  t2 = x[i7] * cc1 - x[i3] * ss1;\n",
    "\t  t3 = x[i4] * cc3 + x[i8] * ss3;\n",
    "\t  t4 = x[i8] * cc3 - x[i4] * ss3;\n",
    "\t  t5 = t1 + t3;\n",
    "\t  t6 = t2 + t4;\n",
    "\t  t3 = t1 - t3;\n",
    "\t  t4 = t2 - t4;\n",
    "\t  t2 = x[i6] + t6;\n",
    "\t  x[i3] = t6 - x[i6];\n",
    "\t  x[i8] = t2;\n",
    "\t  t2 = x[i2] - t3;\n",
    "\t  x[i7] = -x[i2] - t3;\n",
    "\t  x[i4] = t2;\n",
    "\t  t1 = x[i1] + t5;\n",
    "\t  x[i6] = x[i1] - t5;\n",
    "\t  x[i1] = t1;\n",
    "\t  t1 = x[i5] + t4;\n",
    "\t  x[i5] = x[i5] - t4;\n",
    "\t  x[i2] = t1;\n",
    "\t}\n",
    "\tis = (id << 1) - n2;\n",
    "\tid <<= 2;\n",
    "      }\n",
    "    }\n",
    "  }\n",
    "}"
   ]
  },
  {
   "cell_type": "markdown",
   "id": "e1492ca8-b054-4d2d-a867-b14a68ea05ad",
   "metadata": {},
   "source": [
    "### frequency estimation algorithms"
   ]
  },
  {
   "cell_type": "code",
   "execution_count": null,
   "id": "671acb87-3a7b-412e-9dd0-778af99fc22c",
   "metadata": {},
   "outputs": [],
   "source": [
    "void freq_from_fft(double* signal, int N, double fs, double* result) {\n",
    "    double* windowed = (double*)malloc(N * sizeof(double));\n",
    "    double* f = (double*)malloc((N/2 + 1) * sizeof(double));\n",
    "    double* log_f = (double*)malloc((N/2 + 1) * sizeof(double));\n",
    "    int i_peak, i_interp;\n",
    "\n",
    "    // Apply Kaiser window\n",
    "    for (int i = 0; i < N; i++) {\n",
    "        windowed[i] = signal[i] * kaiser(i, N); // You need to implement kaiser function\n",
    "    }\n",
    "\n",
    "    // Compute Fourier transform of windowed signal\n",
    "    rfft(windowed, f, N); // You need to implement rfft function\n",
    "\n",
    "    // Find the peak\n",
    "    i_peak = argmax(f, N/2 + 1); // You need to implement argmax function\n",
    "\n",
    "    // Interpolate to get a more accurate peak\n",
    "    parabolic(log_f, i_peak, &i_interp); // You need to implement parabolic function\n",
    "\n",
    "    // Convert to equivalent frequency\n",
    "    *result = fs * i_interp / N; // Hz\n",
    "\n",
    "    free(windowed);\n",
    "    free(f);\n",
    "    free(log_f);\n",
    "}"
   ]
  },
  {
   "cell_type": "markdown",
   "id": "d11ce2d4-81c1-4b93-b495-abb8d0a1d8f7",
   "metadata": {},
   "source": [
    "### main entry"
   ]
  },
  {
   "cell_type": "code",
   "execution_count": 5,
   "id": "4c622796-b779-40f0-b928-1f6410110e9f",
   "metadata": {},
   "outputs": [],
   "source": [
    "int main(void)\n",
    "{\n",
    "    // const char *n_wav2 = \"./dataset/raw/neg_test_files/neg_beep_clear_clip_02_22K.wav\";\n",
    "    // WavFile nw2 = wavio_read(n_wav2);\n",
    "    // float *n_sig2 = nw2.data[0]; // Assuming data is a 2D array(means two channel src wav) and we want the first channel\n",
    "\n",
    "    // Remember to free resources if necessary\n",
    "    // wavio_free(nw2);\n",
    "\n",
    "    return 0;\n",
    "}"
   ]
  },
  {
   "cell_type": "code",
   "execution_count": 18,
   "id": "5cc08a65-7061-4226-8f20-32dd0d5082ac",
   "metadata": {},
   "outputs": [
    {
     "name": "stdout",
     "output_type": "stream",
     "text": [
      "test"
     ]
    }
   ],
   "source": [
    "main();"
   ]
  },
  {
   "cell_type": "code",
   "execution_count": null,
   "id": "ab989367-b1ed-4bfa-b37c-c03e3f520245",
   "metadata": {},
   "outputs": [],
   "source": [
    "int main() {\n",
    "    \n",
    "}"
   ]
  },
  {
   "cell_type": "code",
   "execution_count": null,
   "id": "41b40ba1-bde7-4b2f-8591-8363b35627d4",
   "metadata": {},
   "outputs": [],
   "source": []
  }
 ],
 "metadata": {
  "kernelspec": {
   "display_name": "C++11",
   "language": "C++11",
   "name": "xcpp11"
  },
  "language_info": {
   "codemirror_mode": "text/x-c++src",
   "file_extension": ".cpp",
   "mimetype": "text/x-c++src",
   "name": "c++",
   "version": "11"
  }
 },
 "nbformat": 4,
 "nbformat_minor": 5
}
