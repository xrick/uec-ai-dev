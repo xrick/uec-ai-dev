{
 "cells": [
  {
   "cell_type": "code",
   "execution_count": 1,
   "id": "10cc0023-963d-4418-acf6-c133f1a38436",
   "metadata": {},
   "outputs": [],
   "source": [
    "#include \"math.h\""
   ]
  },
  {
   "cell_type": "code",
   "execution_count": null,
   "id": "4c622796-b779-40f0-b928-1f6410110e9f",
   "metadata": {},
   "outputs": [],
   "source": [
    "void main"
   ]
  }
 ],
 "metadata": {
  "kernelspec": {
   "display_name": "C++11",
   "language": "C++11",
   "name": "xcpp11"
  },
  "language_info": {
   "codemirror_mode": "text/x-c++src",
   "file_extension": ".cpp",
   "mimetype": "text/x-c++src",
   "name": "c++",
   "version": "11"
  }
 },
 "nbformat": 4,
 "nbformat_minor": 5
}
