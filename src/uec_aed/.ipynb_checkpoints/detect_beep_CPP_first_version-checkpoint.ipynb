{
 "cells": [
  {
   "cell_type": "code",
   "execution_count": null,
   "id": "10cc0023-963d-4418-acf6-c133f1a38436",
   "metadata": {},
   "outputs": [],
   "source": [
    "#include <stdio.h>\n",
    "#include <stdlib.h>\n",
    "#include <math.h>\n",
    "#include <complex.h>\n",
    "#include \"beep_clear_clip_01_22K.h\""
   ]
  },
  {
   "cell_type": "code",
   "execution_count": null,
   "id": "af020208-4326-47b4-a16a-d72934c15946",
   "metadata": {},
   "outputs": [],
   "source": [
    "// #ifndef _RFFT_H \n",
    "// #define _RFFT_H\n",
    "// #define M_PI        3.14159265358979323846\n",
    "// #define M_SQRT2     1.41421356237309504880\n",
    "// #define RFFT_LEN  1024\n",
    "// #define RFFT_ORDER 10\n",
    "// #endif //end of _RFFT_H\n",
    "#define PI          3.1415926\n",
    "#define pi          3.14159265358979\n",
    "// typedef struct\n",
    "// {\n",
    "//   float real;\n",
    "//   float imag;\n",
    "// } Complex;\n",
    "\n",
    "// enum\n",
    "// {\n",
    "//   FFT,IFFT\n",
    "// };"
   ]
  },
  {
   "cell_type": "code",
   "execution_count": null,
   "id": "f8374a8c-d26a-4709-bbd4-06b3c5222c27",
   "metadata": {},
   "outputs": [],
   "source": [
    "void dft(float x[], float result[], uint32_t num_elems)\n",
    "float parabolic(float* corr, int index);\n",
    "int find_first_positive(float* d, int length);\n",
    "int kaiser( float beta, int M, float *window );\n",
    "int argmax(float* arr, int length);\n",
    "void correlate(float* signal, int length, float* corr);\n",
    "double mean(float* signal, int length);\n",
    "double freq_from_autocorr(float* signal, int length, float fs);\n",
    "void find(int* condition, int size, int** res, int* res_size);\n",
    "void detectAudio(float* signal, int sig_len, int sr, float wanted_freq, float magthreshold, float freqthreshold, float (*freq_func)(float*, int));"
   ]
  },
  {
   "cell_type": "markdown",
   "id": "b89388f8-2a16-4168-84c8-9de6e8b30686",
   "metadata": {},
   "source": [
    "### utility functions"
   ]
  },
  {
   "cell_type": "code",
   "execution_count": null,
   "id": "1051dac4-80ac-4682-b384-1470e1bb7b58",
   "metadata": {},
   "outputs": [],
   "source": [
    "double mean(float* signal, int length) \n",
    "{\n",
    "    float sum = 0.0;\n",
    "    for (int i = 0; i < length; i++) \n",
    "    {\n",
    "        sum += signal[i];\n",
    "    }\n",
    "    return sum / length;\n",
    "}"
   ]
  },
  {
   "cell_type": "code",
   "execution_count": null,
   "id": "b514b4ca-14e4-481b-9ae9-071908b8f9c8",
   "metadata": {},
   "outputs": [],
   "source": [
    "void correlate(float* signal, int length, double* corr) {\n",
    "    for (int lag = 0; lag < length; lag++) {\n",
    "        corr[lag] = 0.0;\n",
    "        for (int i = 0; i < length - lag; i++) {\n",
    "            corr[lag] += signal[i] * signal[i + lag];\n",
    "        }\n",
    "    }\n",
    "}"
   ]
  },
  {
   "cell_type": "code",
   "execution_count": null,
   "id": "34001338-eafd-426a-89cf-b86059a61495",
   "metadata": {},
   "outputs": [],
   "source": [
    "int find_first_positive(float* d, int length) \n",
    "{\n",
    "    for (int i = 0; i < length; i++) \n",
    "    {\n",
    "        if (d[i] > 0) \n",
    "        {\n",
    "            return i;\n",
    "        }\n",
    "    }\n",
    "    return -1; // Not found\n",
    "};"
   ]
  },
  {
   "cell_type": "code",
   "execution_count": null,
   "id": "89f46114-bc6b-43ff-988a-be343efe328e",
   "metadata": {},
   "outputs": [],
   "source": [
    "int argmax(float* arr, int length)\n",
    "{\n",
    "    int max_index = 0;\n",
    "    for (int i = 1; i < length; i++) \n",
    "    {\n",
    "        if (arr[i] > arr[max_index]) \n",
    "        {\n",
    "            max_index = i;\n",
    "        }\n",
    "    }\n",
    "    return max_index;\n",
    "};"
   ]
  },
  {
   "cell_type": "code",
   "execution_count": null,
   "id": "8141d50f-0e2a-404c-9374-09a1bbab61f0",
   "metadata": {},
   "outputs": [],
   "source": [
    "float parabolic(float* corr, int index) \n",
    "{\n",
    "    float a = corr[index - 1];\n",
    "    float b = corr[index];\n",
    "    float c = corr[index + 1];\n",
    "    return index + (b - a) / (2 * (b - 2 * a + c));\n",
    "};"
   ]
  },
  {
   "cell_type": "code",
   "execution_count": null,
   "id": "6a293370-16fa-487d-a3fd-7f9fe203fe21",
   "metadata": {},
   "outputs": [],
   "source": [
    "void find(int* condition, int size, int** res, int* res_size) {\n",
    "    *res_size = 0;\n",
    "    *res = (int*)malloc(size * sizeof(int));\n",
    "    \n",
    "    for (int i = 0; i < size; i++) {\n",
    "        if (condition[i]) {\n",
    "            (*res)[(*res_size)++] = i;\n",
    "        }\n",
    "    }\n",
    "    *res = (int*)realloc(*res, (*res_size) * sizeof(int));\n",
    "}"
   ]
  },
  {
   "cell_type": "code",
   "execution_count": null,
   "id": "5f5b8ec4-959c-40d5-bb19-c8cc7b8446c9",
   "metadata": {},
   "outputs": [],
   "source": [
    "int kaiser( float beta, int M, float *window )\n",
    "{\n",
    "  // # Docstring adapted from NumPy's kaiser function\n",
    "  // if _len_guards(M):\n",
    "  //     return np.ones(M)\n",
    "  // M, needs_trunc = _extend(M, sym)\n",
    "\n",
    "  int result = true;\n",
    "\n",
    "  // n = np.arange(0, M)\n",
    "  float n[M];\n",
    "  for ( int i = 0; i < M; i++ )\n",
    "    n[i] = i;\n",
    "  // alpha = (M - 1) / 2.0\n",
    "  float alpha = (M - 1) / 2.0;\n",
    "  // w = (special.i0(beta * np.sqrt(1 - ((n - alpha) / alpha) ** 2.0)) /\n",
    "  //      special.i0(beta))\n",
    "  for ( int i = 0; i < M; i++ ) {\n",
    "    float p = pow( (n[i] - alpha) / alpha, 2 );\n",
    "    window[i] = i0( beta * sqrt(1 - p) ) / i0( beta );\n",
    "  }\n",
    "\n",
    "  return result;\n",
    "}"
   ]
  },
  {
   "cell_type": "code",
   "execution_count": null,
   "id": "3693c4dd-d137-4965-8847-6a4afc31bd13",
   "metadata": {},
   "outputs": [],
   "source": []
  },
  {
   "cell_type": "code",
   "execution_count": 13,
   "id": "6c06079c-d3ee-40cc-a144-ae0717a1303e",
   "metadata": {},
   "outputs": [
    {
     "name": "stdout",
     "output_type": "stream",
     "text": [
      "bit opertor '>> n' means multiplied by 2^n: 50\n",
      "bit opertor '>> n' means divided by 2^n: 400"
     ]
    }
   ],
   "source": [
    "int testi = 100;\n",
    "printf(\"bit opertor '>> n' means multiplied by 2^n: %d\\n\",100 >> 1);\n",
    "printf(\"bit opertor '>> n' means divided by 2^n: %d\",100 << 2);"
   ]
  },
  {
   "cell_type": "markdown",
   "id": "82680580-c86c-4c54-9610-fdb4414518ca",
   "metadata": {},
   "source": [
    "### Discrete Fourier Transformation Algorithm implementations"
   ]
  },
  {
   "cell_type": "code",
   "execution_count": null,
   "id": "8ba09ad2-eeec-4519-b2cf-9d190f9aca00",
   "metadata": {},
   "outputs": [],
   "source": [
    "void dft(float x[], float result[], uint32_t num_elems) {\n",
    "  // See: \"modified C code\" from https://batchloaf.wordpress.com/2013/12/07/simple-dft-in-c/ \n",
    "  // to simplify does not use pre-computed cos/sin(z)\n",
    "  for(uint32_t k = 0; k < num_elems; k++) {\n",
    "    float xre[num_elems]; // Real component\n",
    "    float xim[num_elems]; // Imaginary component\n",
    "    for(uint64_t n = 0; n < num_elems; n++) {\n",
    "      float z = (2 * M_PI * k * n) / num_elems;\n",
    "      xre[n] += x[n] * cos(z);\n",
    "      xim[n] -= x[n] * sin(z);\n",
    "    }\n",
    "    result[k] = (xre[k] * xre[k]) * (xim[k] * xim[k]);\n",
    "  }\n",
    "}"
   ]
  },
  {
   "cell_type": "code",
   "execution_count": null,
   "id": "9ef2a06f-1919-4393-932c-16893ca703ed",
   "metadata": {},
   "outputs": [],
   "source": []
  },
  {
   "cell_type": "markdown",
   "id": "e1492ca8-b054-4d2d-a867-b14a68ea05ad",
   "metadata": {},
   "source": [
    "### frequency estimation algorithms"
   ]
  },
  {
   "cell_type": "code",
   "execution_count": null,
   "id": "dd89b39f-2380-42f9-817e-ff2c14bed001",
   "metadata": {},
   "outputs": [],
   "source": [
    "void freq_from_fft2(float* signal, int dft_elements, float fs, float* result) {\n",
    "    /*\n",
    "    Estimate frequency from peak of FFT\n",
    "    Pros: Accurate, usually even more so than zero crossing counter\n",
    "    (1000.000004 Hz for 1000 Hz, for instance).  Due to parabolic\n",
    "    interpolation being a very good fit for windowed log FFT peaks?\n",
    "    Accuracy also increases with signal length\n",
    "    Cons: Doesn't find the right value if harmonics are stronger than\n",
    "    fundamental, which is common.\n",
    "    */\n",
    "    \n",
    "    //set dft_elements for testing\n",
    "    dft_elements = 2048;\n",
    "    /*************************/    \n",
    "    float* windowed = (float*)malloc(N * sizeof(float));\n",
    "    float* f = (float*)malloc((dft_elements + 1) * sizeof(float));\n",
    "    float* log_abs_f = (float*)malloc((N/2 + 1) * sizeof(float));\n",
    "    float* abs_f = (float*)malloc((N/2 + 1) * sizeof(float));\n",
    "    float* kaiser_window = (float*)malloc(N * sizeof(float));\n",
    "    float beta = 100.0;\n",
    "    kaiser(beta, N, kaiser_window);\n",
    "    // Apply Kaiser window\n",
    "    for (int n = 0; n < N; n++) {\n",
    "        windowed[n] = signal[n] * kaiser_window[n];\n",
    "    }\n",
    "\n",
    "    // apply dft to windowed signal with dft_elements\n",
    "    dft(windowed, f, dft_elements);\n",
    "\n",
    "    // Find the peak\n",
    "    int i_peak = 0;\n",
    "    float max_val = 0.0;\n",
    "    for (int i = 0; i < (dft_elements/2 + 1); i++) {\n",
    "        abs_f[i] = sqrt(windowed[i] * windowed[i]); // Assuming f is complex\n",
    "        if (abs_f[i] > max_val) {\n",
    "            max_val = abs_f[i];\n",
    "            i_peak = i;\n",
    "        }\n",
    "    }\n",
    "    // Log and interpolate\n",
    "    for (int i = 0; i < (N/2 + 1); i++) {\n",
    "        log_abs_f[i] = log(abs_f[i]);\n",
    "    }\n",
    "    float i_interp = parabolic(log_abs_f, i_peak);\n",
    "    // Convert to equivalent frequency\n",
    "    *result = fs * i_interp / N; // Hz\n",
    "\n",
    "    // Free allocated memory\n",
    "    free(windowed);\n",
    "    // free(f);\n",
    "    free(log_abs_f);\n",
    "    free(abs_f);\n",
    "}\n",
    "\n",
    "// Note: You need to implement or include the kaiser, rfft, and parabolic functions.\n"
   ]
  },
  {
   "cell_type": "markdown",
   "id": "cb658f13-dbe8-44f5-b154-4695157da9d8",
   "metadata": {},
   "source": [
    "### beep and alarm detection algorithm"
   ]
  },
  {
   "cell_type": "code",
   "execution_count": 15,
   "id": "58c75853-7c76-4e2b-8933-6ff4d9f63315",
   "metadata": {},
   "outputs": [
    {
     "name": "stderr",
     "output_type": "stream",
     "text": [
      "\u001b[1minput_line_25:6:22: \u001b[0m\u001b[0;1;31merror: \u001b[0m\u001b[1mno matching function for call to 'freq_from_fft2'\u001b[0m\n",
      "    float testFreq = freq_from_fft2(signal, sig_len, sr, &result);\n",
      "\u001b[0;1;32m                     ^~~~~~~~~~~~~~\n",
      "\u001b[0m\u001b[1minput_line_24:1:6: \u001b[0m\u001b[0;1;30mnote: \u001b[0mcandidate function not viable: no known conversion from 'double *' to 'float *' for 1st argument\u001b[0m\n",
      "void freq_from_fft2(float* signal, int N, float fs, float* result) {\n",
      "\u001b[0;1;32m     ^\n",
      "\u001b[0m\u001b[1minput_line_25:31:13: \u001b[0m\u001b[0;1;31merror: \u001b[0m\u001b[1mredefinition of 'fftData' with a different type: 'double *' vs 'float *'\u001b[0m\n",
      "    double* fftData = (double*)malloc(sig_len * sizeof(double));\n",
      "\u001b[0;1;32m            ^\n",
      "\u001b[0m\u001b[1minput_line_25:21:12: \u001b[0m\u001b[0;1;30mnote: \u001b[0mprevious definition is here\u001b[0m\n",
      "    float* fftData = (float*)malloc(sig_len * sizeof(float));\n",
      "\u001b[0;1;32m           ^\n",
      "\u001b[0m\u001b[1minput_line_25:32:9: \u001b[0m\u001b[0;1;31merror: \u001b[0m\u001b[1muse of undeclared identifier 'fftData_re'; did you mean 'fftData'?\u001b[0m\n",
      "    if (fftData_re == NULL || fftData_im == NULL) {\n",
      "\u001b[0;1;32m        ^~~~~~~~~~\n",
      "\u001b[0m\u001b[0;32m        fftData\n",
      "\u001b[0m\u001b[1minput_line_25:21:12: \u001b[0m\u001b[0;1;30mnote: \u001b[0m'fftData' declared here\u001b[0m\n",
      "    float* fftData = (float*)malloc(sig_len * sizeof(float));\n",
      "\u001b[0;1;32m           ^\n",
      "\u001b[0m\u001b[1minput_line_25:32:31: \u001b[0m\u001b[0;1;31merror: \u001b[0m\u001b[1muse of undeclared identifier 'fftData_im'; did you mean 'fftData'?\u001b[0m\n",
      "    if (fftData_re == NULL || fftData_im == NULL) {\n",
      "\u001b[0;1;32m                              ^~~~~~~~~~\n",
      "\u001b[0m\u001b[0;32m                              fftData\n",
      "\u001b[0m\u001b[1minput_line_25:21:12: \u001b[0m\u001b[0;1;30mnote: \u001b[0m'fftData' declared here\u001b[0m\n",
      "    float* fftData = (float*)malloc(sig_len * sizeof(float));\n",
      "\u001b[0;1;32m           ^\n",
      "\u001b[0m\u001b[1minput_line_25:39:9: \u001b[0m\u001b[0;1;31merror: \u001b[0m\u001b[1muse of undeclared identifier 'fftData_re'; did you mean 'fftData'?\u001b[0m\n",
      "        fftData_re[i] = creal(fftData[i]);\n",
      "\u001b[0;1;32m        ^~~~~~~~~~\n",
      "\u001b[0m\u001b[0;32m        fftData\n",
      "\u001b[0m\u001b[1minput_line_25:21:12: \u001b[0m\u001b[0;1;30mnote: \u001b[0m'fftData' declared here\u001b[0m\n",
      "    float* fftData = (float*)malloc(sig_len * sizeof(float));\n",
      "\u001b[0;1;32m           ^\n",
      "\u001b[0m\u001b[1minput_line_25:39:25: \u001b[0m\u001b[0;1;31merror: \u001b[0m\u001b[1muse of undeclared identifier 'creal'\u001b[0m\n",
      "        fftData_re[i] = creal(fftData[i]);\n",
      "\u001b[0;1;32m                        ^\n",
      "\u001b[0m\u001b[1minput_line_25:43:29: \u001b[0m\u001b[0;1;31merror: \u001b[0m\u001b[1muse of undeclared identifier 'fftData_re'; did you mean 'fftData'?\u001b[0m\n",
      "    double magnitude = cabs(fftData_re[targetIndex] + I * fftData_im[targetIndex]);\n",
      "\u001b[0;1;32m                            ^~~~~~~~~~\n",
      "\u001b[0m\u001b[0;32m                            fftData\n",
      "\u001b[0m\u001b[1minput_line_25:21:12: \u001b[0m\u001b[0;1;30mnote: \u001b[0m'fftData' declared here\u001b[0m\n",
      "    float* fftData = (float*)malloc(sig_len * sizeof(float));\n",
      "\u001b[0;1;32m           ^\n",
      "\u001b[0m\u001b[1minput_line_25:43:59: \u001b[0m\u001b[0;1;31merror: \u001b[0m\u001b[1muse of undeclared identifier 'fftData_im'; did you mean 'fftData'?\u001b[0m\n",
      "    double magnitude = cabs(fftData_re[targetIndex] + I * fftData_im[targetIndex]);\n",
      "\u001b[0;1;32m                                                          ^~~~~~~~~~\n",
      "\u001b[0m\u001b[0;32m                                                          fftData\n",
      "\u001b[0m\u001b[1minput_line_25:21:12: \u001b[0m\u001b[0;1;30mnote: \u001b[0m'fftData' declared here\u001b[0m\n",
      "    float* fftData = (float*)malloc(sig_len * sizeof(float));\n",
      "\u001b[0;1;32m           ^\n",
      "\u001b[0m\u001b[1minput_line_25:43:55: \u001b[0m\u001b[0;1;31merror: \u001b[0m\u001b[1muse of undeclared identifier 'I'\u001b[0m\n",
      "    double magnitude = cabs(fftData_re[targetIndex] + I * fftData_im[targetIndex]);\n",
      "\u001b[0;1;32m                                                      ^\n",
      "\u001b[0m"
     ]
    },
    {
     "ename": "Interpreter Error",
     "evalue": "",
     "output_type": "error",
     "traceback": [
      "Interpreter Error: "
     ]
    }
   ],
   "source": [
    "// void detectAudio(double* signal, int sig_len, int sr, double wanted_freq, double magthreshold, double freqthreshold, double (*freq_func)(double*, int)) \n",
    "void detectAudio(float* signal, int sig_len, int sr, float wanted_freq, float magthreshold, float freqthreshold)\n",
    "{\n",
    "    // double testFreq = freq_func(signal, sr);\n",
    "    float result=0.0;\n",
    "    float testFreq = freq_from_fft2(signal, sig_len, sr, &result);\n",
    "    int _dft_elements = 2048;\n",
    "    printf(\"testFreq calculated: %f\\n\", testFreq);\n",
    "    \n",
    "    float diff_freq = fabs(wanted_freq - testFreq);\n",
    "    printf(\"diff_freq calculated: %f\\n\", diff_freq);\n",
    "    \n",
    "    floate* window = (float*)malloc(sig_len * sizeof(float));\n",
    "    if (window == NULL) {\n",
    "        fprintf(stderr, \"Memory allocation failed\\n\");\n",
    "        return;\n",
    "    }\n",
    "\n",
    "    for (int i = 0; i < sig_len; i++) {\n",
    "        window[i] = signal[i] * (0.54 - 0.46 * cos(2 * M_PI * i / (sig_len - 1)));\n",
    "    }\n",
    "\n",
    "    // double complex* fftData = (double complex*)malloc(sig_len * sizeof(double complex));\n",
    "    float* fftData = (float*)malloc(sig_len * sizeof(float));\n",
    "    float* fftData_re = (float*)malloc(sig_len * sizeof(float));\n",
    "    float* fftData_im = (float*)malloc(sig_len * sizeof(float));\n",
    "    if (fftData == NULL) {\n",
    "        fprintf(stderr, \"Memory allocation failed\\n\");\n",
    "        free(window);\n",
    "        return;\n",
    "    }\n",
    "    dft(window, fftData, _dft_elements);\n",
    "   \n",
    "    for (int i = 0; i < sig_len; i++) {\n",
    "        fftData_re[i] = creal(fftData[i]);\n",
    "        fftData_im[i] = cimag(fftData[i]);\n",
    "    }\n",
    "    // int targetIndex = (int)((double)sig_len * testFreq / sr);// get the bin we want to calculate maganitude\n",
    "    int targetIndex = (int)((double)_dft_elements * testFreq / sr);\n",
    "    float magnitude = cbs(fftData(targetIndex));\n",
    "    // float magnitude = cabs(fftData_re[targetIndex] + I * fftData_im[targetIndex]);\n",
    "\n",
    "    if (diff_freq < freqthreshold) {\n",
    "        if (magnitude > magthreshold) {\n",
    "            printf(\"Wanted Frequency detected: %f Hz and magnitude: %f\\n\", testFreq, magnitude);\n",
    "        } else {\n",
    "            printf(\"Wanted Frequency detected: %f Hz but no significant magnitude: %f\\n\", testFreq, magnitude);\n",
    "        }\n",
    "    } else {\n",
    "        printf(\"wanted frequency: %f is not found, found frequency: %f and magnitude is %f\\n\", wanted_freq, testFreq, magnitude);\n",
    "    }\n",
    "    free(window);\n",
    "    free(fftData);\n",
    "    // free(fftData_re);\n",
    "    // free(fftData_im);\n",
    "}"
   ]
  },
  {
   "cell_type": "markdown",
   "id": "d11ce2d4-81c1-4b93-b495-abb8d0a1d8f7",
   "metadata": {},
   "source": [
    "### main entry"
   ]
  },
  {
   "cell_type": "code",
   "execution_count": 5,
   "id": "4c622796-b779-40f0-b928-1f6410110e9f",
   "metadata": {},
   "outputs": [],
   "source": [
    "int main(void)\n",
    "{\n",
    "    // const char *n_wav2 = \"./dataset/raw/neg_test_files/neg_beep_clear_clip_02_22K.wav\";\n",
    "    // WavFile nw2 = wavio_read(n_wav2);\n",
    "    // float *n_sig2 = nw2.data[0]; // Assuming data is a 2D array(means two channel src wav) and we want the first channel\n",
    "\n",
    "    // Remember to free resources if necessary\n",
    "    // wavio_free(nw2);\n",
    "    \n",
    "\n",
    "    return 0;\n",
    "}"
   ]
  },
  {
   "cell_type": "code",
   "execution_count": 18,
   "id": "5cc08a65-7061-4226-8f20-32dd0d5082ac",
   "metadata": {},
   "outputs": [
    {
     "name": "stdout",
     "output_type": "stream",
     "text": [
      "test"
     ]
    }
   ],
   "source": [
    "main();"
   ]
  },
  {
   "cell_type": "code",
   "execution_count": null,
   "id": "ab989367-b1ed-4bfa-b37c-c03e3f520245",
   "metadata": {},
   "outputs": [],
   "source": [
    "int main() {\n",
    "    \n",
    "}"
   ]
  },
  {
   "cell_type": "code",
   "execution_count": null,
   "id": "41b40ba1-bde7-4b2f-8591-8363b35627d4",
   "metadata": {},
   "outputs": [],
   "source": []
  }
 ],
 "metadata": {
  "kernelspec": {
   "display_name": "C",
   "language": "c",
   "name": "c"
  },
  "language_info": {
   "file_extension": ".c",
   "mimetype": "text/plain",
   "name": "c"
  }
 },
 "nbformat": 4,
 "nbformat_minor": 5
}
