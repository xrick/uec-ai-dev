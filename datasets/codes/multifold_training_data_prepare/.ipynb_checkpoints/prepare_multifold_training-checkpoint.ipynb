{
 "cells": [
  {
   "cell_type": "code",
   "execution_count": 6,
   "id": "5583ecb3-fbb4-4851-ab15-a9c0854ee060",
   "metadata": {},
   "outputs": [],
   "source": [
    "import os\n",
    "import sys\n",
    "import matplotlib.pyplot as plt\n",
    "import wave\n",
    "import wavio\n",
    "import numpy as np"
   ]
  },
  {
   "cell_type": "code",
   "execution_count": 7,
   "id": "4155e820-af29-4685-8b65-fd2374e8e326",
   "metadata": {},
   "outputs": [],
   "source": [
    "import IPython\n",
    "from IPython.display import Audio"
   ]
  },
  {
   "cell_type": "code",
   "execution_count": 8,
   "id": "2d67232b-b9fd-46ae-a090-15983e44f6be",
   "metadata": {},
   "outputs": [],
   "source": [
    "sys.path.append(\"../../../src/\")\n",
    "# sys.path.append(\"../\")\n",
    "# sys.path.append(\"../../\");"
   ]
  },
  {
   "cell_type": "code",
   "execution_count": 9,
   "id": "fdefb77e-70b1-4a9c-93d7-bdd7ab0fa720",
   "metadata": {},
   "outputs": [],
   "source": [
    "from SharedLibs.sys_untity import getFileList;\n",
    "from SharedLibs.audio_utility import read_wavfile_by_wavio;"
   ]
  },
  {
   "cell_type": "code",
   "execution_count": null,
   "id": "aaa85d27-f5cf-4596-9552-af9036a7490d",
   "metadata": {},
   "outputs": [],
   "source": []
  },
  {
   "cell_type": "code",
   "execution_count": 10,
   "id": "ce68b644-0b4c-4c12-bebe-4f8c3a398f0a",
   "metadata": {},
   "outputs": [
    {
     "ename": "NameError",
     "evalue": "name 'split_enghelp_sigrep2' is not defined",
     "output_type": "error",
     "traceback": [
      "\u001b[0;31m---------------------------------------------------------------------------\u001b[0m",
      "\u001b[0;31mNameError\u001b[0m                                 Traceback (most recent call last)",
      "Cell \u001b[0;32mIn[10], line 1\u001b[0m\n\u001b[0;32m----> 1\u001b[0m \u001b[43msplit_enghelp_sigrep2\u001b[49m\n",
      "\u001b[0;31mNameError\u001b[0m: name 'split_enghelp_sigrep2' is not defined"
     ]
    }
   ],
   "source": [
    "split_enghelp_sigrep2_save_root = \"../../CurrentUse/wav_files/\" "
   ]
  },
  {
   "cell_type": "code",
   "execution_count": null,
   "id": "be2f5b13-dcb4-47ec-a01d-d6ad0282ba7c",
   "metadata": {},
   "outputs": [],
   "source": [
    "_"
   ]
  }
 ],
 "metadata": {
  "kernelspec": {
   "display_name": "Python 3 (ipykernel)",
   "language": "python",
   "name": "python3"
  },
  "language_info": {
   "codemirror_mode": {
    "name": "ipython",
    "version": 3
   },
   "file_extension": ".py",
   "mimetype": "text/x-python",
   "name": "python",
   "nbconvert_exporter": "python",
   "pygments_lexer": "ipython3",
   "version": "3.10.12"
  }
 },
 "nbformat": 4,
 "nbformat_minor": 5
}
