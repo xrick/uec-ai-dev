{
 "cells": [
  {
   "cell_type": "code",
   "execution_count": 1,
   "id": "8a7657b3-cb40-496d-a430-36fc6b393299",
   "metadata": {},
   "outputs": [
    {
     "name": "stderr",
     "output_type": "stream",
     "text": [
      "2024-08-01 11:29:29.986773: I tensorflow/core/util/port.cc:113] oneDNN custom operations are on. You may see slightly different numerical results due to floating-point round-off errors from different computation orders. To turn them off, set the environment variable `TF_ENABLE_ONEDNN_OPTS=0`.\n",
      "2024-08-01 11:29:30.007393: E external/local_xla/xla/stream_executor/cuda/cuda_dnn.cc:9261] Unable to register cuDNN factory: Attempting to register factory for plugin cuDNN when one has already been registered\n",
      "2024-08-01 11:29:30.007412: E external/local_xla/xla/stream_executor/cuda/cuda_fft.cc:607] Unable to register cuFFT factory: Attempting to register factory for plugin cuFFT when one has already been registered\n",
      "2024-08-01 11:29:30.008072: E external/local_xla/xla/stream_executor/cuda/cuda_blas.cc:1515] Unable to register cuBLAS factory: Attempting to register factory for plugin cuBLAS when one has already been registered\n",
      "2024-08-01 11:29:30.012049: I tensorflow/core/platform/cpu_feature_guard.cc:182] This TensorFlow binary is optimized to use available CPU instructions in performance-critical operations.\n",
      "To enable the following instructions: AVX2 AVX_VNNI FMA, in other operations, rebuild TensorFlow with the appropriate compiler flags.\n",
      "2024-08-01 11:29:30.380550: W tensorflow/compiler/tf2tensorrt/utils/py_utils.cc:38] TF-TRT Warning: Could not find TensorRT\n"
     ]
    }
   ],
   "source": [
    "import os\n",
    "import sys\n",
    "import datetime\n",
    "import shutil\n",
    "import numpy as np\n",
    "import tensorflow as tf\n",
    "# from tensorflow import keras\n",
    "import zipfile\n",
    "import wavio\n",
    "import audioop\n",
    "import IPython\n",
    "from common import utils as U\n",
    "np.set_printoptions(threshold=sys.maxsize)"
   ]
  },
  {
   "cell_type": "code",
   "execution_count": 2,
   "id": "965168cf-54b9-4a3d-99e0-13fae9f0d1fa",
   "metadata": {},
   "outputs": [],
   "source": [
    "from datetime import datetime\n",
    "import re\n",
    "import matplotlib.pyplot as plt"
   ]
  },
  {
   "cell_type": "code",
   "execution_count": 3,
   "id": "314a4055-b0cd-4901-a8e2-881ef135ab74",
   "metadata": {},
   "outputs": [],
   "source": [
    "tflite_quant_model_path = \"../../trained_models/step_6_QAT_and_Convert2TFLite/multifold/version_2_use_all_folds/qat_model_uec4C_val93_tr_87_prunInfo_85.0_85.0_DSver15_AllFold_20240730174136.tflite\";\n",
    "# Load quantized TFLite model\n",
    "tflite_interpreter_quant = tf.lite.Interpreter(model_path=tflite_quant_model_path, experimental_preserve_all_tensors=True);"
   ]
  },
  {
   "cell_type": "code",
   "execution_count": 4,
   "id": "f223edbc-017b-4d42-afe5-8eb5c332d948",
   "metadata": {},
   "outputs": [
    {
     "name": "stdout",
     "output_type": "stream",
     "text": [
      "== Input details ==\n",
      "name: input.2_te_transform\n",
      "shape: [    1     1 20150     1]\n",
      "type: <class 'numpy.int8'>\n",
      "\n",
      "== Output details ==\n",
      "name: Xq.1\n",
      "shape: [1 4]\n",
      "type: <class 'numpy.int8'>\n"
     ]
    }
   ],
   "source": [
    "input_details = tflite_interpreter_quant.get_input_details()\n",
    "output_details = tflite_interpreter_quant.get_output_details()\n",
    "\n",
    "print(\"== Input details ==\")\n",
    "print(\"name:\", input_details[0]['name'])\n",
    "print(\"shape:\", input_details[0]['shape'])\n",
    "print(\"type:\", input_details[0]['dtype'])\n",
    "\n",
    "print(\"\\n== Output details ==\")\n",
    "print(\"name:\", output_details[0]['name'])\n",
    "print(\"shape:\", output_details[0]['shape'])\n",
    "print(\"type:\", output_details[0]['dtype'])\n",
    "\n",
    "tflite_interpreter_quant.allocate_tensors();"
   ]
  },
  {
   "cell_type": "code",
   "execution_count": null,
   "id": "0a02a8ef-7a5b-4125-9d93-1ae144f08676",
   "metadata": {},
   "outputs": [],
   "source": []
  }
 ],
 "metadata": {
  "kernelspec": {
   "display_name": "Python 3 (ipykernel)",
   "language": "python",
   "name": "python3"
  },
  "language_info": {
   "codemirror_mode": {
    "name": "ipython",
    "version": 3
   },
   "file_extension": ".py",
   "mimetype": "text/x-python",
   "name": "python",
   "nbconvert_exporter": "python",
   "pygments_lexer": "ipython3",
   "version": "3.10.12"
  }
 },
 "nbformat": 4,
 "nbformat_minor": 5
}
