{
 "cells": [
  {
   "cell_type": "code",
   "execution_count": 1,
   "id": "67156b18-a017-4c53-a8a7-82c394315f93",
   "metadata": {},
   "outputs": [],
   "source": [
    "import os\n",
    "import sys\n",
    "import numpy as np"
   ]
  },
  {
   "cell_type": "code",
   "execution_count": null,
   "id": "808d1064-e1b2-435e-8731-b63dd732345b",
   "metadata": {},
   "outputs": [],
   "source": []
  },
  {
   "cell_type": "code",
   "execution_count": 2,
   "id": "6c44404e-ae46-4eda-a96a-1ee1ffa83f9a",
   "metadata": {},
   "outputs": [],
   "source": [
    "##rms:root mean square of segment:rms = np.sqrt(np.mean(y**2))\n",
    "# energy_threshold = 30;\n",
    "# energy = -audioop.rms(buffer, 2)\n",
    "# energy_bytes = bytes([energy & 0xFF, (energy >> 8) & 0xFF])\n",
    "# debiased_energy = audioop.rms(audioop.add(buffer, energy_bytes * (len(buffer) // 2), 2), 2)\n",
    "\n",
    "# if debiased_energy > energy_threshold:  # probably actually audio\n",
    "#     result[device_index] = device_name"
   ]
  },
  {
   "cell_type": "code",
   "execution_count": null,
   "id": "3a5f8a7a-106a-42d6-8733-5a6b6b63944c",
   "metadata": {},
   "outputs": [],
   "source": []
  },
  {
   "cell_type": "code",
   "execution_count": 3,
   "id": "92d8eee0-2e2f-4dc0-8758-192e7c94d3cd",
   "metadata": {},
   "outputs": [],
   "source": [
    "def calculate_segment_debiased_energy():\n",
    "    pass\n",
    "\n",
    "def _calculate_amplitude(self, audio_data):\n",
    "    data_ampl = np.abs(np.fft.fft(audio_data))\n",
    "    data_ampl = data_ampl[1:]\n",
    "    return data_ampl\n",
    "\n",
    "def _calculate_energy(self, data):\n",
    "    data_amplitude = self._calculate_amplitude(data)\n",
    "    data_energy = data_amplitude ** 2\n",
    "    return data_energy"
   ]
  },
  {
   "cell_type": "code",
   "execution_count": null,
   "id": "9d9eb020-1927-49d2-8639-1e16cd9626d4",
   "metadata": {},
   "outputs": [],
   "source": []
  },
  {
   "cell_type": "markdown",
   "id": "22c71f4a-d756-4e4f-a8b2-fceffb16e395",
   "metadata": {},
   "source": [
    "void TrimToLoudestSegment(const std::vector<float>& input, int64_t desired_samples, std::vector<float>* output) \n",
    "{\n",
    "  /*\n",
    "      input: input wav signal\n",
    "      desired_samples: desired length = second * sampling_rate\n",
    "      output: output signal\n",
    "  */\n",
    "  const int64_t input_size = input.size();\n",
    "  if (desired_samples >= input_size) {\n",
    "    *output = input;\n",
    "    return;\n",
    "  }\n",
    "\n",
    "  float current_volume_sum = 0.0f;\n",
    "  for (int64_t i = 0; i < desired_samples; ++i) {\n",
    "    const float input_value = input[i];\n",
    "    current_volume_sum += fabsf(input_value * input_value);\n",
    "  }\n",
    "  int64_t loudest_end_index = desired_samples;\n",
    "  float loudest_volume = current_volume_sum;\n",
    "  for (int64_t i = desired_samples; i < input_size; ++i) {\n",
    "    const float trailing_value = input[i - desired_samples];\n",
    "    current_volume_sum -= fabsf(trailing_value);\n",
    "    const float leading_value = input[i];\n",
    "    current_volume_sum += fabsf(leading_value);\n",
    "    if (current_volume_sum > loudest_volume) {\n",
    "      loudest_volume = current_volume_sum;\n",
    "      loudest_end_index = i;\n",
    "    }\n",
    "  }\n",
    "  const int64_t loudest_start_index = loudest_end_index - desired_samples;\n",
    "  output->resize(desired_samples);\n",
    "  std::copy(input.begin() + loudest_start_index,\n",
    "            input.begin() + loudest_end_index, output->begin());\n",
    "}\n"
   ]
  },
  {
   "cell_type": "code",
   "execution_count": null,
   "id": "8e105671-5113-4f69-99a3-9a6be359b4ba",
   "metadata": {},
   "outputs": [],
   "source": []
  }
 ],
 "metadata": {
  "kernelspec": {
   "display_name": "Python 3 (ipykernel)",
   "language": "python",
   "name": "python3"
  },
  "language_info": {
   "codemirror_mode": {
    "name": "ipython",
    "version": 3
   },
   "file_extension": ".py",
   "mimetype": "text/x-python",
   "name": "python",
   "nbconvert_exporter": "python",
   "pygments_lexer": "ipython3",
   "version": "3.10.12"
  }
 },
 "nbformat": 4,
 "nbformat_minor": 5
}
