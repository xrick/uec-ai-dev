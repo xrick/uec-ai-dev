{
 "cells": [
  {
   "cell_type": "code",
   "execution_count": 1,
   "id": "56041a4e-388c-431c-9ea8-03158783fe59",
   "metadata": {},
   "outputs": [],
   "source": [
    "import os\n",
    "import sys\n",
    "import matplotlib.pyplot as plt"
   ]
  },
  {
   "cell_type": "code",
   "execution_count": 2,
   "id": "21cdf638-9ab3-4398-8cbf-e78d90c8b447",
   "metadata": {},
   "outputs": [],
   "source": [
    "sys.path.append(\"../ipynb_files/\")\n",
    "sys.path.append(\"../\")\n",
    "sys.path.append(\"../../\");"
   ]
  },
  {
   "cell_type": "code",
   "execution_count": 3,
   "id": "bed7e2c8-2d63-48a3-943d-08c5f0aa0c31",
   "metadata": {},
   "outputs": [],
   "source": [
    "# from common import utils as U\n",
    "# from TestSharedLib.bytes import to_bytes, from_bytes, byte_conversion_tests, load_data, load_raw, save_raw, save_scores\n",
    "# from TestSharedLib.constants import quant_support, crops, feature_count\n",
    "from Libs.SharedLibs import getFileList;"
   ]
  },
  {
   "cell_type": "code",
   "execution_count": null,
   "id": "441c0c32-0348-4196-a417-b4f717cebb0e",
   "metadata": {},
   "outputs": [],
   "source": []
  }
 ],
 "metadata": {
  "kernelspec": {
   "display_name": "Python 3 (ipykernel)",
   "language": "python",
   "name": "python3"
  },
  "language_info": {
   "codemirror_mode": {
    "name": "ipython",
    "version": 3
   },
   "file_extension": ".py",
   "mimetype": "text/x-python",
   "name": "python",
   "nbconvert_exporter": "python",
   "pygments_lexer": "ipython3",
   "version": "3.10.12"
  }
 },
 "nbformat": 4,
 "nbformat_minor": 5
}
