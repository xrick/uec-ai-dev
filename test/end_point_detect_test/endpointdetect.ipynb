{
 "cells": [
  {
   "cell_type": "code",
   "execution_count": 1,
   "id": "67156b18-a017-4c53-a8a7-82c394315f93",
   "metadata": {},
   "outputs": [],
   "source": [
    "import os\n",
    "import sys\n",
    "import numpy as np"
   ]
  },
  {
   "cell_type": "code",
   "execution_count": null,
   "id": "808d1064-e1b2-435e-8731-b63dd732345b",
   "metadata": {},
   "outputs": [],
   "source": []
  },
  {
   "cell_type": "code",
   "execution_count": 2,
   "id": "6c44404e-ae46-4eda-a96a-1ee1ffa83f9a",
   "metadata": {},
   "outputs": [],
   "source": [
    "##rms:root mean square of segment:rms = np.sqrt(np.mean(y**2))\n",
    "# energy_threshold = 30;\n",
    "# energy = -audioop.rms(buffer, 2)\n",
    "# energy_bytes = bytes([energy & 0xFF, (energy >> 8) & 0xFF])\n",
    "# debiased_energy = audioop.rms(audioop.add(buffer, energy_bytes * (len(buffer) // 2), 2), 2)\n",
    "\n",
    "# if debiased_energy > energy_threshold:  # probably actually audio\n",
    "#     result[device_index] = device_name"
   ]
  },
  {
   "cell_type": "code",
   "execution_count": null,
   "id": "3a5f8a7a-106a-42d6-8733-5a6b6b63944c",
   "metadata": {},
   "outputs": [],
   "source": []
  },
  {
   "cell_type": "code",
   "execution_count": null,
   "id": "92d8eee0-2e2f-4dc0-8758-192e7c94d3cd",
   "metadata": {},
   "outputs": [],
   "source": []
  }
 ],
 "metadata": {
  "kernelspec": {
   "display_name": "Python 3 (ipykernel)",
   "language": "python",
   "name": "python3"
  },
  "language_info": {
   "codemirror_mode": {
    "name": "ipython",
    "version": 3
   },
   "file_extension": ".py",
   "mimetype": "text/x-python",
   "name": "python",
   "nbconvert_exporter": "python",
   "pygments_lexer": "ipython3",
   "version": "3.10.12"
  }
 },
 "nbformat": 4,
 "nbformat_minor": 5
}
